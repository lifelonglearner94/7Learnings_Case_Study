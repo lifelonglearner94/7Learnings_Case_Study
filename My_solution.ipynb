{
 "cells": [
  {
   "cell_type": "code",
   "execution_count": 2,
   "metadata": {},
   "outputs": [
    {
     "name": "stdout",
     "output_type": "stream",
     "text": [
      "The autoreload extension is already loaded. To reload it, use:\n",
      "  %reload_ext autoreload\n"
     ]
    }
   ],
   "source": [
    "%load_ext google.cloud.bigquery\n",
    "%load_ext autoreload\n",
    "%autoreload 2"
   ]
  },
  {
   "cell_type": "markdown",
   "metadata": {},
   "source": [
    "### Imports"
   ]
  },
  {
   "cell_type": "code",
   "execution_count": 3,
   "metadata": {},
   "outputs": [
    {
     "name": "stderr",
     "output_type": "stream",
     "text": [
      "2024-05-22 21:53:04.722698: I tensorflow/core/platform/cpu_feature_guard.cc:193] This TensorFlow binary is optimized with oneAPI Deep Neural Network Library (oneDNN) to use the following CPU instructions in performance-critical operations:  AVX2 FMA\n",
      "To enable them in other operations, rebuild TensorFlow with the appropriate compiler flags.\n",
      "2024-05-22 21:53:05.483595: W tensorflow/stream_executor/platform/default/dso_loader.cc:64] Could not load dynamic library 'libcudart.so.11.0'; dlerror: libcudart.so.11.0: cannot open shared object file: No such file or directory\n",
      "2024-05-22 21:53:05.483649: I tensorflow/stream_executor/cuda/cudart_stub.cc:29] Ignore above cudart dlerror if you do not have a GPU set up on your machine.\n",
      "2024-05-22 21:53:05.543568: E tensorflow/stream_executor/cuda/cuda_blas.cc:2981] Unable to register cuBLAS factory: Attempting to register factory for plugin cuBLAS when one has already been registered\n",
      "2024-05-22 21:53:06.928972: W tensorflow/stream_executor/platform/default/dso_loader.cc:64] Could not load dynamic library 'libnvinfer.so.7'; dlerror: libnvinfer.so.7: cannot open shared object file: No such file or directory\n",
      "2024-05-22 21:53:06.929236: W tensorflow/stream_executor/platform/default/dso_loader.cc:64] Could not load dynamic library 'libnvinfer_plugin.so.7'; dlerror: libnvinfer_plugin.so.7: cannot open shared object file: No such file or directory\n",
      "2024-05-22 21:53:06.929246: W tensorflow/compiler/tf2tensorrt/utils/py_utils.cc:38] TF-TRT Warning: Cannot dlopen some TensorRT libraries. If you would like to use Nvidia GPU with TensorRT, please make sure the missing libraries mentioned above are installed properly.\n"
     ]
    }
   ],
   "source": [
    "import tensorflow as tf\n",
    "import pandas as pd\n",
    "import matplotlib.pyplot as plt\n",
    "from sklearn.impute import KNNImputer\n",
    "from sklearn.metrics import accuracy_score, precision_score, recall_score, f1_score\n",
    "import numpy as np\n",
    "from util import *"
   ]
  },
  {
   "cell_type": "markdown",
   "metadata": {},
   "source": [
    "# \"Will it snow tomorrow?\" - The time traveler asked\n",
    "The following dataset contains climate information from over 9000 stations accross the world. The overall goal of these subtasks will be to predict whether it will snow tomorrow 15 years ago. So if today is 2024.05.17 then the weather we want to forecast is for the date 2009.05.18. You are supposed to solve the tasks using Big Query, which can be used in the Jupyter Notebook like it is shown in the following cell. For further information and how to use BigQuery in Jupyter Notebook refer to the Google Docs. \n",
    "\n",
    "The goal of this test is to test your coding knowledge in Python, BigQuery and Pandas as well as your understanding of Data Science. If you get stuck in the first part, you can use the replacement data provided in the second part"
   ]
  },
  {
   "cell_type": "code",
   "execution_count": 4,
   "metadata": {},
   "outputs": [],
   "source": [
    "# %%bigquery\n",
    "# SELECT\n",
    "# *,\n",
    "# FROM `bigquery-public-data.samples.gsod`\n",
    "# LIMIT 20\n"
   ]
  },
  {
   "cell_type": "markdown",
   "metadata": {},
   "source": [
    "## Part 1"
   ]
  },
  {
   "cell_type": "markdown",
   "metadata": {},
   "source": [
    "### 1. Task\n",
    "Change the date format to 'YYYY-MM-DD' and select the data from 2005 till 2009 for station numbers including and between 725300 and 726300 , and save it as a pandas dataframe. Note the maximum year available is 2010. "
   ]
  },
  {
   "cell_type": "code",
   "execution_count": 5,
   "metadata": {
    "scrolled": true
   },
   "outputs": [
    {
     "name": "stderr",
     "output_type": "stream",
     "text": [
      "/tmp/ipykernel_29364/1417031021.py:7: DtypeWarning: Columns (20) have mixed types. Specify dtype option on import or set low_memory=False.\n",
      "  climate_data_df = pd.read_csv(\"my_climate_data_df.csv\")\n"
     ]
    }
   ],
   "source": [
    "%%bigquery climate_data_df\n",
    "SELECT *,\n",
    "CONCAT(year, '-', month, '-', day) AS date\n",
    "FROM `bigquery-public-data.samples.gsod` AS climate_data\n",
    "WHERE climate_data.year BETWEEN 2005 AND 2009 AND climate_data.station_number BETWEEN 725300 AND 726300;\n",
    "\n",
    "# climate_data_df = pd.read_csv(\"my_climate_data_df.csv\")\n"
   ]
  },
  {
   "cell_type": "markdown",
   "metadata": {},
   "source": [
    "### 2. Task \n",
    "From here you want to work with the data from all stations 725300 to 725330 that have information from 2005 till 2009. "
   ]
  },
  {
   "cell_type": "code",
   "execution_count": 6,
   "metadata": {},
   "outputs": [],
   "source": [
    "# Filter data\n",
    "climate_data_df = climate_data_df[climate_data_df[\"station_number\"] <= 725330]"
   ]
  },
  {
   "cell_type": "markdown",
   "metadata": {},
   "source": [
    "Do a first analysis of the remaining dataset, clean or drop data depending on how you see appropriate. "
   ]
  },
  {
   "cell_type": "markdown",
   "metadata": {},
   "source": [
    "### Handling duplicates"
   ]
  },
  {
   "cell_type": "code",
   "execution_count": 7,
   "metadata": {},
   "outputs": [
    {
     "data": {
      "text/plain": [
       "0"
      ]
     },
     "execution_count": 7,
     "metadata": {},
     "output_type": "execute_result"
    }
   ],
   "source": [
    "# Original data length minus data length without duplicates\n",
    "duplicate_count = len(climate_data_df) - len(climate_data_df.drop_duplicates())\n",
    "duplicate_count"
   ]
  },
  {
   "cell_type": "markdown",
   "metadata": {},
   "source": [
    "### Handling missing values and drop unnecessary columns"
   ]
  },
  {
   "cell_type": "code",
   "execution_count": 8,
   "metadata": {},
   "outputs": [
    {
     "data": {
      "text/plain": [
       "min_temperature_explicit              1.00\n",
       "min_temperature                       1.00\n",
       "snow_depth                            0.97\n",
       "num_mean_station_pressure_samples     0.95\n",
       "mean_station_pressure                 0.95\n",
       "max_gust_wind_speed                   0.37\n",
       "mean_sealevel_pressure                0.10\n",
       "num_mean_sealevel_pressure_samples    0.10\n",
       "total_precipitation                   0.01\n",
       "max_sustained_wind_speed              0.00\n",
       "mean_wind_speed                       0.00\n",
       "num_mean_wind_speed_samples           0.00\n",
       "mean_visibility                       0.00\n",
       "num_mean_visibility_samples           0.00\n",
       "num_mean_dew_point_samples            0.00\n",
       "mean_dew_point                        0.00\n",
       "max_temperature                       0.00\n",
       "max_temperature_explicit              0.00\n",
       "rain                                  0.00\n",
       "snow                                  0.00\n",
       "fog                                   0.00\n",
       "hail                                  0.00\n",
       "thunder                               0.00\n",
       "tornado                               0.00\n",
       "station_number                        0.00\n",
       "wban_number                           0.00\n",
       "num_mean_temp_samples                 0.00\n",
       "mean_temp                             0.00\n",
       "day                                   0.00\n",
       "month                                 0.00\n",
       "year                                  0.00\n",
       "date                                  0.00\n",
       "dtype: float64"
      ]
     },
     "execution_count": 8,
     "metadata": {},
     "output_type": "execute_result"
    }
   ],
   "source": [
    "# Display the columns with the most missing values\n",
    "round(climate_data_df.isnull().sum().sort_values(ascending=False) / len(climate_data_df), 2)"
   ]
  },
  {
   "cell_type": "code",
   "execution_count": 9,
   "metadata": {},
   "outputs": [],
   "source": [
    "# Drop the columns with more that 60 % missing values (and the date columns that we don't need anymore)\n",
    "climate_data_df_filtered = climate_data_df.drop(columns=[\"day\",\n",
    "                                                         \"month\",\n",
    "                                                         \"year\",\n",
    "                                                         \"min_temperature_explicit\",\n",
    "                                                         \"min_temperature\",\n",
    "                                                         \"snow_depth\",\n",
    "                                                         \"num_mean_station_pressure_samples\",\n",
    "                                                         \"mean_station_pressure\"])"
   ]
  },
  {
   "cell_type": "code",
   "execution_count": 10,
   "metadata": {},
   "outputs": [
    {
     "data": {
      "text/html": [
       "<div>\n",
       "<style scoped>\n",
       "    .dataframe tbody tr th:only-of-type {\n",
       "        vertical-align: middle;\n",
       "    }\n",
       "\n",
       "    .dataframe tbody tr th {\n",
       "        vertical-align: top;\n",
       "    }\n",
       "\n",
       "    .dataframe thead th {\n",
       "        text-align: right;\n",
       "    }\n",
       "</style>\n",
       "<table border=\"1\" class=\"dataframe\">\n",
       "  <thead>\n",
       "    <tr style=\"text-align: right;\">\n",
       "      <th></th>\n",
       "      <th>count</th>\n",
       "      <th>mean</th>\n",
       "      <th>std</th>\n",
       "      <th>min</th>\n",
       "      <th>25%</th>\n",
       "      <th>50%</th>\n",
       "      <th>75%</th>\n",
       "      <th>max</th>\n",
       "    </tr>\n",
       "  </thead>\n",
       "  <tbody>\n",
       "    <tr>\n",
       "      <th>station_number</th>\n",
       "      <td>18129.0</td>\n",
       "      <td>725316.962050</td>\n",
       "      <td>8.979529</td>\n",
       "      <td>725300.000000</td>\n",
       "      <td>725314.000000</td>\n",
       "      <td>725316.000000</td>\n",
       "      <td>725326.000000</td>\n",
       "      <td>725330.000000</td>\n",
       "    </tr>\n",
       "    <tr>\n",
       "      <th>wban_number</th>\n",
       "      <td>18129.0</td>\n",
       "      <td>72766.474488</td>\n",
       "      <td>39561.090384</td>\n",
       "      <td>3887.000000</td>\n",
       "      <td>14842.000000</td>\n",
       "      <td>99999.000000</td>\n",
       "      <td>99999.000000</td>\n",
       "      <td>99999.000000</td>\n",
       "    </tr>\n",
       "    <tr>\n",
       "      <th>mean_temp</th>\n",
       "      <td>18129.0</td>\n",
       "      <td>51.999636</td>\n",
       "      <td>19.392603</td>\n",
       "      <td>-16.200001</td>\n",
       "      <td>36.299999</td>\n",
       "      <td>53.799999</td>\n",
       "      <td>69.099998</td>\n",
       "      <td>92.000000</td>\n",
       "    </tr>\n",
       "    <tr>\n",
       "      <th>num_mean_temp_samples</th>\n",
       "      <td>18129.0</td>\n",
       "      <td>23.574163</td>\n",
       "      <td>1.817230</td>\n",
       "      <td>4.000000</td>\n",
       "      <td>24.000000</td>\n",
       "      <td>24.000000</td>\n",
       "      <td>24.000000</td>\n",
       "      <td>24.000000</td>\n",
       "    </tr>\n",
       "    <tr>\n",
       "      <th>mean_dew_point</th>\n",
       "      <td>18127.0</td>\n",
       "      <td>41.605108</td>\n",
       "      <td>18.494937</td>\n",
       "      <td>-23.500000</td>\n",
       "      <td>27.500000</td>\n",
       "      <td>42.599998</td>\n",
       "      <td>57.200001</td>\n",
       "      <td>79.099998</td>\n",
       "    </tr>\n",
       "    <tr>\n",
       "      <th>num_mean_dew_point_samples</th>\n",
       "      <td>18127.0</td>\n",
       "      <td>23.553704</td>\n",
       "      <td>1.857548</td>\n",
       "      <td>4.000000</td>\n",
       "      <td>24.000000</td>\n",
       "      <td>24.000000</td>\n",
       "      <td>24.000000</td>\n",
       "      <td>24.000000</td>\n",
       "    </tr>\n",
       "    <tr>\n",
       "      <th>mean_sealevel_pressure</th>\n",
       "      <td>16291.0</td>\n",
       "      <td>1016.937585</td>\n",
       "      <td>6.920370</td>\n",
       "      <td>985.299988</td>\n",
       "      <td>1012.799988</td>\n",
       "      <td>1016.700012</td>\n",
       "      <td>1020.900024</td>\n",
       "      <td>1044.199951</td>\n",
       "    </tr>\n",
       "    <tr>\n",
       "      <th>num_mean_sealevel_pressure_samples</th>\n",
       "      <td>16291.0</td>\n",
       "      <td>21.682217</td>\n",
       "      <td>3.198832</td>\n",
       "      <td>4.000000</td>\n",
       "      <td>20.000000</td>\n",
       "      <td>23.000000</td>\n",
       "      <td>24.000000</td>\n",
       "      <td>24.000000</td>\n",
       "    </tr>\n",
       "    <tr>\n",
       "      <th>mean_visibility</th>\n",
       "      <td>18126.0</td>\n",
       "      <td>8.699388</td>\n",
       "      <td>1.730177</td>\n",
       "      <td>0.600000</td>\n",
       "      <td>7.900000</td>\n",
       "      <td>9.500000</td>\n",
       "      <td>10.000000</td>\n",
       "      <td>10.900000</td>\n",
       "    </tr>\n",
       "    <tr>\n",
       "      <th>num_mean_visibility_samples</th>\n",
       "      <td>18126.0</td>\n",
       "      <td>23.565155</td>\n",
       "      <td>1.829544</td>\n",
       "      <td>4.000000</td>\n",
       "      <td>24.000000</td>\n",
       "      <td>24.000000</td>\n",
       "      <td>24.000000</td>\n",
       "      <td>24.000000</td>\n",
       "    </tr>\n",
       "    <tr>\n",
       "      <th>mean_wind_speed</th>\n",
       "      <td>18124.0</td>\n",
       "      <td>7.495834</td>\n",
       "      <td>3.581758</td>\n",
       "      <td>0.000000</td>\n",
       "      <td>4.800000</td>\n",
       "      <td>7.000000</td>\n",
       "      <td>9.600000</td>\n",
       "      <td>24.000000</td>\n",
       "    </tr>\n",
       "    <tr>\n",
       "      <th>num_mean_wind_speed_samples</th>\n",
       "      <td>18124.0</td>\n",
       "      <td>23.528195</td>\n",
       "      <td>1.928344</td>\n",
       "      <td>4.000000</td>\n",
       "      <td>24.000000</td>\n",
       "      <td>24.000000</td>\n",
       "      <td>24.000000</td>\n",
       "      <td>24.000000</td>\n",
       "    </tr>\n",
       "    <tr>\n",
       "      <th>max_sustained_wind_speed</th>\n",
       "      <td>18119.0</td>\n",
       "      <td>14.049412</td>\n",
       "      <td>5.241219</td>\n",
       "      <td>2.900000</td>\n",
       "      <td>9.900000</td>\n",
       "      <td>13.000000</td>\n",
       "      <td>16.900000</td>\n",
       "      <td>49.000000</td>\n",
       "    </tr>\n",
       "    <tr>\n",
       "      <th>max_gust_wind_speed</th>\n",
       "      <td>11468.0</td>\n",
       "      <td>23.153270</td>\n",
       "      <td>6.382058</td>\n",
       "      <td>11.100000</td>\n",
       "      <td>18.100000</td>\n",
       "      <td>22.000000</td>\n",
       "      <td>27.000000</td>\n",
       "      <td>63.900002</td>\n",
       "    </tr>\n",
       "    <tr>\n",
       "      <th>max_temperature</th>\n",
       "      <td>18127.0</td>\n",
       "      <td>42.580692</td>\n",
       "      <td>18.646582</td>\n",
       "      <td>-34.599998</td>\n",
       "      <td>28.400000</td>\n",
       "      <td>44.099998</td>\n",
       "      <td>57.900002</td>\n",
       "      <td>87.800003</td>\n",
       "    </tr>\n",
       "    <tr>\n",
       "      <th>total_precipitation</th>\n",
       "      <td>17938.0</td>\n",
       "      <td>0.095488</td>\n",
       "      <td>0.279290</td>\n",
       "      <td>0.000000</td>\n",
       "      <td>0.000000</td>\n",
       "      <td>0.000000</td>\n",
       "      <td>0.040000</td>\n",
       "      <td>9.990000</td>\n",
       "    </tr>\n",
       "  </tbody>\n",
       "</table>\n",
       "</div>"
      ],
      "text/plain": [
       "                                      count           mean           std  \\\n",
       "station_number                      18129.0  725316.962050      8.979529   \n",
       "wban_number                         18129.0   72766.474488  39561.090384   \n",
       "mean_temp                           18129.0      51.999636     19.392603   \n",
       "num_mean_temp_samples               18129.0      23.574163      1.817230   \n",
       "mean_dew_point                      18127.0      41.605108     18.494937   \n",
       "num_mean_dew_point_samples          18127.0      23.553704      1.857548   \n",
       "mean_sealevel_pressure              16291.0    1016.937585      6.920370   \n",
       "num_mean_sealevel_pressure_samples  16291.0      21.682217      3.198832   \n",
       "mean_visibility                     18126.0       8.699388      1.730177   \n",
       "num_mean_visibility_samples         18126.0      23.565155      1.829544   \n",
       "mean_wind_speed                     18124.0       7.495834      3.581758   \n",
       "num_mean_wind_speed_samples         18124.0      23.528195      1.928344   \n",
       "max_sustained_wind_speed            18119.0      14.049412      5.241219   \n",
       "max_gust_wind_speed                 11468.0      23.153270      6.382058   \n",
       "max_temperature                     18127.0      42.580692     18.646582   \n",
       "total_precipitation                 17938.0       0.095488      0.279290   \n",
       "\n",
       "                                              min            25%  \\\n",
       "station_number                      725300.000000  725314.000000   \n",
       "wban_number                           3887.000000   14842.000000   \n",
       "mean_temp                              -16.200001      36.299999   \n",
       "num_mean_temp_samples                    4.000000      24.000000   \n",
       "mean_dew_point                         -23.500000      27.500000   \n",
       "num_mean_dew_point_samples               4.000000      24.000000   \n",
       "mean_sealevel_pressure                 985.299988    1012.799988   \n",
       "num_mean_sealevel_pressure_samples       4.000000      20.000000   \n",
       "mean_visibility                          0.600000       7.900000   \n",
       "num_mean_visibility_samples              4.000000      24.000000   \n",
       "mean_wind_speed                          0.000000       4.800000   \n",
       "num_mean_wind_speed_samples              4.000000      24.000000   \n",
       "max_sustained_wind_speed                 2.900000       9.900000   \n",
       "max_gust_wind_speed                     11.100000      18.100000   \n",
       "max_temperature                        -34.599998      28.400000   \n",
       "total_precipitation                      0.000000       0.000000   \n",
       "\n",
       "                                              50%            75%  \\\n",
       "station_number                      725316.000000  725326.000000   \n",
       "wban_number                          99999.000000   99999.000000   \n",
       "mean_temp                               53.799999      69.099998   \n",
       "num_mean_temp_samples                   24.000000      24.000000   \n",
       "mean_dew_point                          42.599998      57.200001   \n",
       "num_mean_dew_point_samples              24.000000      24.000000   \n",
       "mean_sealevel_pressure                1016.700012    1020.900024   \n",
       "num_mean_sealevel_pressure_samples      23.000000      24.000000   \n",
       "mean_visibility                          9.500000      10.000000   \n",
       "num_mean_visibility_samples             24.000000      24.000000   \n",
       "mean_wind_speed                          7.000000       9.600000   \n",
       "num_mean_wind_speed_samples             24.000000      24.000000   \n",
       "max_sustained_wind_speed                13.000000      16.900000   \n",
       "max_gust_wind_speed                     22.000000      27.000000   \n",
       "max_temperature                         44.099998      57.900002   \n",
       "total_precipitation                      0.000000       0.040000   \n",
       "\n",
       "                                              max  \n",
       "station_number                      725330.000000  \n",
       "wban_number                          99999.000000  \n",
       "mean_temp                               92.000000  \n",
       "num_mean_temp_samples                   24.000000  \n",
       "mean_dew_point                          79.099998  \n",
       "num_mean_dew_point_samples              24.000000  \n",
       "mean_sealevel_pressure                1044.199951  \n",
       "num_mean_sealevel_pressure_samples      24.000000  \n",
       "mean_visibility                         10.900000  \n",
       "num_mean_visibility_samples             24.000000  \n",
       "mean_wind_speed                         24.000000  \n",
       "num_mean_wind_speed_samples             24.000000  \n",
       "max_sustained_wind_speed                49.000000  \n",
       "max_gust_wind_speed                     63.900002  \n",
       "max_temperature                         87.800003  \n",
       "total_precipitation                      9.990000  "
      ]
     },
     "execution_count": 10,
     "metadata": {},
     "output_type": "execute_result"
    }
   ],
   "source": [
    "climate_data_df_filtered.describe().T"
   ]
  },
  {
   "cell_type": "code",
   "execution_count": 11,
   "metadata": {},
   "outputs": [],
   "source": [
    "# Select columns that don't start with \"num...\"\n",
    "num_cols = [col for col in climate_data_df_filtered.columns if col.startswith('num')]\n",
    "\n",
    "# Drop unwanted columns using filtered columns\n",
    "climate_data_df_filtered_2 = climate_data_df_filtered.drop(columns=num_cols)\n"
   ]
  },
  {
   "cell_type": "code",
   "execution_count": 12,
   "metadata": {},
   "outputs": [],
   "source": [
    "# Create a list of all station-names\n",
    "list_of_stations = list(climate_data_df_filtered_2[\"station_number\"].unique())"
   ]
  },
  {
   "cell_type": "code",
   "execution_count": 13,
   "metadata": {},
   "outputs": [],
   "source": [
    "# Create a dict with keys (stations) and values (station_data)\n",
    "dict_of_station_dfs = {}\n",
    "for station in list_of_stations:\n",
    "    df_name = str(station)\n",
    "    dict_of_station_dfs[df_name] = (climate_data_df_filtered_2[climate_data_df_filtered_2[\"station_number\"] == station]) \\\n",
    "    .drop(columns=[\"station_number\", \"wban_number\"]) # Remove ununnecessary columns, since they are same for every row"
   ]
  },
  {
   "cell_type": "code",
   "execution_count": 14,
   "metadata": {},
   "outputs": [],
   "source": [
    "# Set datetime index\n",
    "for key, station_df in dict_of_station_dfs.items():\n",
    "    dict_of_station_dfs[key] = set_datetime_index(station_df)"
   ]
  },
  {
   "cell_type": "code",
   "execution_count": 15,
   "metadata": {},
   "outputs": [],
   "source": [
    "# Fill all missing dates and values\n",
    "for key, station_df in dict_of_station_dfs.items():\n",
    "    dict_of_station_dfs[key] = fill_missing_dates_and_values(station_df)"
   ]
  },
  {
   "cell_type": "markdown",
   "metadata": {},
   "source": [
    "### 3. Task\n",
    "Now it is time to split the data, into a training, evaluation and test set. As a reminder, the date we are trying to predict snow fall for should constitute your test set."
   ]
  },
  {
   "cell_type": "code",
   "execution_count": 16,
   "metadata": {},
   "outputs": [
    {
     "data": {
      "text/plain": [
       "'2009-05-23'"
      ]
     },
     "execution_count": 16,
     "metadata": {},
     "output_type": "execute_result"
    }
   ],
   "source": [
    "import datetime as dt\n",
    "\n",
    "tomorrow_date = (dt.datetime.today() + dt.timedelta(days=1)) # Tomorrow\n",
    "the_date = str(tomorrow_date.replace(year = tomorrow_date.year - 15)).split(' ')[0] # Subtract 15 years\n",
    "the_date"
   ]
  },
  {
   "cell_type": "code",
   "execution_count": 17,
   "metadata": {},
   "outputs": [
    {
     "data": {
      "text/plain": [
       "array([[<Axes: title={'center': 'station_number'}>,\n",
       "        <Axes: title={'center': 'wban_number'}>,\n",
       "        <Axes: title={'center': 'mean_temp'}>],\n",
       "       [<Axes: title={'center': 'mean_dew_point'}>,\n",
       "        <Axes: title={'center': 'mean_sealevel_pressure'}>,\n",
       "        <Axes: title={'center': 'mean_visibility'}>],\n",
       "       [<Axes: title={'center': 'mean_wind_speed'}>,\n",
       "        <Axes: title={'center': 'max_sustained_wind_speed'}>,\n",
       "        <Axes: title={'center': 'max_gust_wind_speed'}>],\n",
       "       [<Axes: title={'center': 'max_temperature'}>,\n",
       "        <Axes: title={'center': 'total_precipitation'}>, <Axes: >]],\n",
       "      dtype=object)"
      ]
     },
     "execution_count": 17,
     "metadata": {},
     "output_type": "execute_result"
    },
    {
     "data": {
      "image/png": "[encoded data removed]",
      "text/plain": [
       "<Figure size 640x480 with 12 Axes>"
      ]
     },
     "metadata": {},
     "output_type": "display_data"
    }
   ],
   "source": [
    "# Test for normal distribution\n",
    "climate_data_df_filtered_2.hist()"
   ]
  },
  {
   "cell_type": "markdown",
   "metadata": {},
   "source": [
    "## Part 2\n",
    "If you made it up to here all by yourself, you can use your prepared dataset to train an algorithm of your choice to forecast whether it will snow on the following date for each station in this dataset:"
   ]
  },
  {
   "cell_type": "markdown",
   "metadata": {},
   "source": [
    "You are allowed to use any library you are comfortable with such as sklearn, tensorflow, keras etc. \n",
    "If you did not manage to finish part one feel free to use the data provided in 'coding_challenge.csv' Note that this data does not represent a solution to Part 1. "
   ]
  },
  {
   "cell_type": "code",
   "execution_count": 22,
   "metadata": {},
   "outputs": [
    {
     "name": "stdout",
     "output_type": "stream",
     "text": [
      "12/12 [==============================] - 1s 4ms/step\n",
      "12/12 [==============================] - 0s 5ms/step - loss: 0.2781 - accuracy: 0.9220\n",
      "The final prediction for Station 725316 is: no Snow with an accuracy of 0.92)\n"
     ]
    }
   ],
   "source": [
    "for key, station_df in dict_of_station_dfs.items():\n",
    "    window_size = 7\n",
    "    X, y = df_to_X_y(station_df, window_size)\n",
    "    X_train, X_val, X_test, y_train, y_val, y_test, train_dates, val_dates, test_dates = split_data(X, y, station_df)\n",
    "\n",
    "    # Not all are normally distributed but to reduce the complexity in this example we use standard scaling\n",
    "    preprocess(X, np.mean(X_train[:, :, 0]), np.std(X_train[:, :, 0]))\n",
    "    X_train_preprocessed = preprocess(X_train, np.mean(X_train[:, :, 0]), np.std(X_train[:, :, 0]))\n",
    "    X_val_preprocessed = preprocess(X_val, np.mean(X_train[:, :, 0]), np.std(X_train[:, :, 0]))\n",
    "    X_test_preprocessed = preprocess(X_test, np.mean(X_train[:, :, 0]), np.std(X_train[:, :, 0]))\n",
    "\n",
    "    # Build model\n",
    "    model = build_and_compile_model(window_size, X_train_preprocessed.shape[-1])\n",
    "\n",
    "    # Train model\n",
    "    model = fit_model(model, X_train_preprocessed, X_val_preprocessed, y_train, y_val)\n",
    "\n",
    "    # Predict on the test set\n",
    "    predictions = model.predict(X_test_preprocessed)\n",
    "\n",
    "    # Make the final prediction for tomorrow - 15 Years\n",
    "    final_prediction = predictions[test_dates.get_loc(the_date)][0]\n",
    "\n",
    "    threshold = 0.2\n",
    "\n",
    "    final_statement = \"no Snow\" if final_prediction < threshold else \"Snow\"\n",
    "\n",
    "    eval = model.evaluate(X_test_preprocessed, y_test, return_dict=True)\n",
    "\n",
    "    print(f\"The final prediction for Station {key} is: {final_statement} with an accuracy of {eval['accuracy']:.2f}.\")"
   ]
  }
 ],
 "metadata": {
  "kernelspec": {
   "display_name": "Python 3 (ipykernel)",
   "language": "python",
   "name": "python3"
  },
  "language_info": {
   "codemirror_mode": {
    "name": "ipython",
    "version": 3
   },
   "file_extension": ".py",
   "mimetype": "text/x-python",
   "name": "python",
   "nbconvert_exporter": "python",
   "pygments_lexer": "ipython3",
   "version": "3.10.6"
  }
 },
 "nbformat": 4,
 "nbformat_minor": 4
}
